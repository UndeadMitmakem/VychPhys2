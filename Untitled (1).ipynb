{
 "cells": [
  {
   "cell_type": "markdown",
   "metadata": {},
   "source": [
    "# ДЗ №1: вычисление интеграла численно"
   ]
  },
  {
   "cell_type": "markdown",
   "metadata": {},
   "source": [
    "Интеграл выглядит так:\n",
    "\n",
    "$$\\int_{0}^{2} \\frac{e^{0.5x} (2 + \\cos(1 + \\sqrt{x}))}{\\sqrt{1 + 0.5x}} dx$$\n",
    "\n",
    "Делаем замену на x = t+1, чтобы пределы интегрирования были от -1 до 1\n",
    "\n",
    "$$\\int_{-1}^{1} \\frac{e^{0.5(t+1)} (2 + \\cos(1 + \\sqrt{t+1}))}{\\sqrt{1 + 0.5(t+1)}} dt$$"
   ]
  },
  {
   "cell_type": "code",
   "execution_count": 4,
   "metadata": {},
   "outputs": [
    {
     "name": "stdout",
     "output_type": "stream",
     "text": [
      "5 итераций\n",
      "4.421874924497382\n",
      "50 итераций\n",
      "4.423366588687374\n",
      "100 итераций\n",
      "4.423368250238169\n",
      "1000 итераций\n",
      "4.423368491402466\n"
     ]
    }
   ],
   "source": [
    "import numpy as np\n",
    "from scipy.special import roots_legendre    \n",
    "\n",
    "def func (t):\n",
    "    f = np.exp(0.5 * (t + 1)) * (2 + np.cos(1 + np.sqrt (t + 1)))/np.sqrt(1 + 0.5 * (t + 1))\n",
    "    return f\n",
    "    \n",
    "def integral(f, n):\n",
    "    roots, weights = roots_legendre(n)\n",
    "    return np.sum(f(roots) * weights)\n",
    "\n",
    "print('5 итераций', integral(func, 5), '50 итераций', integral(func, 50), '100 итераций', integral(func, 100), '1000 итераций', integral(func, 1000), sep='\\n')  "
   ]
  }
 ],
 "metadata": {
  "kernelspec": {
   "display_name": "Python 3",
   "language": "python",
   "name": "python3"
  },
  "language_info": {
   "codemirror_mode": {
    "name": "ipython",
    "version": 3
   },
   "file_extension": ".py",
   "mimetype": "text/x-python",
   "name": "python",
   "nbconvert_exporter": "python",
   "pygments_lexer": "ipython3",
   "version": "3.6.5"
  }
 },
 "nbformat": 4,
 "nbformat_minor": 2
}
