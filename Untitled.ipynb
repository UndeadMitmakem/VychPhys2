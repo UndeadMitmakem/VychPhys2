{
 "cells": [
  {
   "cell_type": "code",
   "execution_count": 2,
   "metadata": {},
   "outputs": [],
   "source": [
    "import numpy as np\n",
    "import matplotlib.pyplot as plt"
   ]
  },
  {
   "cell_type": "code",
   "execution_count": 74,
   "metadata": {},
   "outputs": [],
   "source": [
    "def x_n(f, N):\n",
    "    t = np.linspace(0, 2*np.pi, N)\n",
    "    x_n = []\n",
    "    for i in range (t.size):\n",
    "        s = f(t[i]) \n",
    "        x_n.append(s)\n",
    "    x_n = np.array(x_n)\n",
    "    return x_n, t\n",
    "\n",
    "def dft(x_n, N):\n",
    "    X = []\n",
    "    #N = x_n.size \n",
    "    for k in range (N):\n",
    "        s = 0*1j\n",
    "        for t in range(N):\n",
    "            s += x_n[t]*np.exp(1j * 2 * np.pi * k * t / N)\n",
    "        X.append(s)\n",
    "    return np.array(X)\n",
    "def f(x):\n",
    "    return np.cos(2*x) + np.sin(3*x)"
   ]
  },
  {
   "cell_type": "code",
   "execution_count": 75,
   "metadata": {
    "scrolled": true
   },
   "outputs": [
    {
     "data": {
      "text/plain": [
       "[<matplotlib.lines.Line2D at 0x17fe09df080>]"
      ]
     },
     "execution_count": 75,
     "metadata": {},
     "output_type": "execute_result"
    },
    {
     "data": {
      "image/png": "[encoded data removed]",
      "text/plain": [
       "<Figure size 432x288 with 1 Axes>"
      ]
     },
     "metadata": {},
     "output_type": "display_data"
    }
   ],
   "source": [
    "plt.plot(x_n(f, 1000)[1], np.real(dft(x_n(f, 1000)[0], x_n(f, 1000)[0].size)))\n"
   ]
  },
  {
   "cell_type": "code",
   "execution_count": 67,
   "metadata": {},
   "outputs": [],
   "source": [
    "def fft(x_n):\n",
    "    X = []\n",
    "    N = x_n.size\n",
    "    if N == 1:\n",
    "        X.append(x_n[0])\n",
    "    for k in range (N):\n",
    "        s = 0*1j\n",
    "        for t in range(N):\n",
    "            if t%2 == 0:\n",
    "                s_even += x_n[t]*np.exp(1j * 2 * np.pi * k * t / N)\n",
    "            else: \n",
    "                s_odd += x_n[t]*np.exp(1j * 2 * np.pi * k * t / N)\n",
    "        X.append(s)\n",
    "    return np.array(X)"
   ]
  },
  {
   "cell_type": "code",
   "execution_count": 54,
   "metadata": {},
   "outputs": [
    {
     "name": "stdout",
     "output_type": "stream",
     "text": [
      "1\n"
     ]
    }
   ],
   "source": []
  },
  {
   "cell_type": "code",
   "execution_count": null,
   "metadata": {},
   "outputs": [],
   "source": []
  }
 ],
 "metadata": {
  "kernelspec": {
   "display_name": "Python 3",
   "language": "python",
   "name": "python3"
  },
  "language_info": {
   "codemirror_mode": {
    "name": "ipython",
    "version": 3
   },
   "file_extension": ".py",
   "mimetype": "text/x-python",
   "name": "python",
   "nbconvert_exporter": "python",
   "pygments_lexer": "ipython3",
   "version": "3.6.5"
  }
 },
 "nbformat": 4,
 "nbformat_minor": 2
}
