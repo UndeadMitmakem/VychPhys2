{
 "cells": [
  {
   "cell_type": "code",
   "execution_count": 189,
   "metadata": {},
   "outputs": [],
   "source": [
    "import matplotlib.pyplot as plt\n",
    "import scipy as sp\n",
    "import numpy as np\n",
    "%matplotlib inline"
   ]
  },
  {
   "cell_type": "code",
   "execution_count": 190,
   "metadata": {},
   "outputs": [],
   "source": [
    "t = 0.88\n",
    "def p(v, tau):\n",
    "    res = -3/v**2 + ((8/3)*tau)/(v - 1/3)\n",
    "    return res"
   ]
  },
  {
   "cell_type": "code",
   "execution_count": 191,
   "metadata": {},
   "outputs": [
    {
     "data": {
      "image/png": "[encoded data removed]",
      "text/plain": [
       "<Figure size 432x288 with 1 Axes>"
      ]
     },
     "metadata": {},
     "output_type": "display_data"
    }
   ],
   "source": [
    "v = np.linspace(0.5, 5, 100)\n",
    "plt.plot(v, p(v, 0.88))\n",
    "y = 0.28*np.ones(100)\n",
    "plt.plot(v, y) \n",
    "plt.grid()\n",
    "plt.show()"
   ]
  },
  {
   "cell_type": "code",
   "execution_count": 192,
   "metadata": {},
   "outputs": [],
   "source": [
    "t = 0.88\n",
    "def comp_matrix(p, tau):\n",
    "    return np.asarray([[0, 0, 1/p], [1, 0, -3/p], [0, 1,(8*tau+p)/(3*p)]])\n",
    "def solve_eq(p, tau):\n",
    "    eig_v =  np.linalg.eig(comp_matrix(p, tau))[0]\n",
    "    return eig_v"
   ]
  },
  {
   "cell_type": "code",
   "execution_count": 193,
   "metadata": {},
   "outputs": [
    {
     "name": "stdout",
     "output_type": "stream",
     "text": [
      "[0.68337521 0.71428571 7.31662479] [7.63397297+0.j         0.67110875+0.13208549j 0.67110875-0.13208549j]\n"
     ]
    }
   ],
   "source": [
    "#p = 0.28\n",
    "print(solve_eq(0.28, t), np.roots(np.asarray([0.28, -(0.5+8*t)/3, 3, -1])))"
   ]
  },
  {
   "cell_type": "code",
   "execution_count": 198,
   "metadata": {},
   "outputs": [
    {
     "name": "stdout",
     "output_type": "stream",
     "text": [
      "0.4634609899892487\n",
      "0.5723809523809523\n"
     ]
    }
   ],
   "source": [
    "def integration(func, t, a, b, n):\n",
    "    x = np.linspace(a, b, n)\n",
    "    f = np.array(func(x, t))\n",
    "    b = []\n",
    "    for i in range(len(x)-1):\n",
    "        b.append((f[i]+f[i+1])*(x[i+1] - x[i])/2)\n",
    "    return(sum(np.array(b)))\n",
    "print(integration(p, 0.88, 0.6, 1.5, 1000))\n",
    "print((p(0.6, 0.88) + p(1.5, 0.88))/2)"
   ]
  },
  {
   "cell_type": "code",
   "execution_count": 202,
   "metadata": {},
   "outputs": [
    {
     "name": "stdout",
     "output_type": "stream",
     "text": [
      "[34.70959038091769, 34.84802084874146, 35.298267392125965, 35.89452207157543, 36.64440747004134, 37.57541841636238, 38.72733266713234, 40.15549235488775, 41.93804235191769, 44.18855244052385, 47.07851317600778, 50.879872041510424, 56.0522205035862, 63.441812715782866, 74.80953572636243, 94.59099258136533, 138.72376255445727, 380.9030747886524, inf, -176.44924070738654, -80.55712638913052, -52.64697238653071, -38.90993628431924, -30.65935840968102, -25.13284479451034, -21.16371921539842, -18.171123821339403, -15.832410440473252, -13.953664895700829, -12.411168949131607, -11.122191728919633, -10.029267220154011, -9.091204306957298, -8.277686441708102, -7.565891383473925, -6.9383002784822425, -6.381234411898547, -5.883852156753363, -5.437445482191233, -5.034936468376916, -4.670510400062788, -4.3393440204404765, -4.037401297111398, -3.7612778745561566, -3.5080811625644435, -3.2753368645550474, -3.0609153682723487, -2.862973229342358, -2.679906245237556, -2.5103115174483324, -2.3529565474591396, -2.2067538837959573, -2.070740184623914, -1.9440588185969963, -1.8259453205499894, -1.7157151655163496, -1.612753436787489, -1.5165060501621035, -1.426472263600771, -1.3421982539124078, -1.2632715833370916, -1.1893164115475592, -1.1199893346180831, -1.0549757533774595, -0.9939866903956494, -0.9367559885113812, -0.883037834954507, -0.8326045642643489, -0.785244700751826, -0.7407612075056235, -0.779502854565282, -1.0338200055520055, -1.1670382262924834, -1.2675228538174026, -1.3493442947544187, -1.4183208484413214, -1.4776000572792525, -1.5291469973556477, -1.5743046466101915, -1.614049854816447, -1.6491261443116596, -1.6801192013485382, -1.7075028668261112, -1.7316687248799087, -1.752945998605725, -1.7716154264766784, -1.7879192434944495, -1.802068552412992, -1.8142488937013863, -1.824624540760601, -1.833341874467931, -1.8405320840031762, -1.8463133767258966, -1.8507928529429654, -1.854068235116771, -1.856229871898799, -1.8573647012037042, -1.8575741374072776, -1.8572047676112498]/n[0.25227272727272726, 0.25681818181818183, 0.26136363636363635, 0.2659090909090909, 0.27045454545454545, 0.275, 0.27954545454545454, 0.28409090909090906, 0.28863636363636364, 0.2931818181818182, 0.29772727272727273, 0.30227272727272725, 0.3068181818181818, 0.31136363636363634, 0.3159090909090909, 0.32045454545454544, 0.325, 0.32954545454545453, 0.3340909090909091, 0.3386363636363636, 0.3431818181818182, 0.3477272727272727, 0.3522727272727273, 0.3568181818181818, 0.36136363636363633, 0.3659090909090909, 0.3704545454545455, 0.375, 0.3795454545454545, 0.3840909090909091, 0.3886363636363636, 0.3931818181818182, 0.3977272727272727, 0.4022727272727273, 0.4068181818181818, 0.4113636363636364, 0.4159090909090909, 0.42045454545454547, 0.425, 0.42954545454545456, 0.4340909090909091, 0.4386363636363636, 0.4431818181818182, 0.4477272727272727, 0.45227272727272727, 0.4568181818181818, 0.46136363636363636, 0.4659090909090909, 0.47045454545454546, 0.475, 0.47954545454545455, 0.48409090909090907, 0.48863636363636365, 0.49318181818181817, 0.49772727272727274, 0.5022727272727272, 0.5068181818181818, 0.5113636363636364, 0.5159090909090909, 0.5204545454545455, 0.525, 0.5295454545454545, 0.5340909090909091, 0.5386363636363636, 0.5431818181818182, 0.5477272727272727, 0.5522727272727272, 0.5568181818181818, 0.5613636363636363, 0.5659090909090909, 0.5704545454545454, 0.575, 0.5795454545454546, 0.5840909090909091, 0.5886363636363636, 0.5931818181818181, 0.5977272727272727, 0.6022727272727273, 0.6068181818181818, 0.6113636363636363, 0.615909090909091, 0.6204545454545454, 0.625, 0.6295454545454545, 0.634090909090909, 0.6386363636363637, 0.6431818181818182, 0.6477272727272727, 0.6522727272727272, 0.6568181818181817, 0.6613636363636364, 0.6659090909090909, 0.6704545454545454, 0.675, 0.6795454545454546, 0.6840909090909091, 0.6886363636363636, 0.6931818181818181, 0.6977272727272728]\n"
     ]
    },
    {
     "name": "stderr",
     "output_type": "stream",
     "text": [
      "C:\\Users\\digital\\Anaconda3\\lib\\site-packages\\ipykernel_launcher.py:3: RuntimeWarning: divide by zero encountered in true_divide\n",
      "  This is separate from the ipykernel package so we can avoid doing imports until\n"
     ]
    }
   ],
   "source": [
    "def poisk(f, tau, a, b, n, tol):\n",
    "    p_min = a\n",
    "    p_max = b\n",
    "    p0 = (p_min + p_max)/2\n",
    "    while abs(p_max - p_min)/2 > tol:\n",
    "        if integration(f, tau, a, b, n) > p0*abs(solve_eq(p0, tau)[2] - solve_eq(p0, tau)[0]):\n",
    "            p_max = p0\n",
    "        elif integration(f, tau, a, b, n) < p0*abs(solve_eq(p0, tau)[2] - solve_eq(p0, tau)[0]):\n",
    "            p_min = p0\n",
    "        elif integration(f, tau, a, b, n) == p0*abs(solve_eq(p0, tau)[2] - solve_eq(p0, tau)[0]):\n",
    "            p0 = p0\n",
    "    return p0\n",
    "def C(f, tau, a, b, n):\n",
    "    p0 = (p(a, tau) + p(b, tau))/2\n",
    "    return integration(f, tau, a, b, n) - p0*abs(solve_eq(p0, tau)[2] - solve_eq(p0, tau)[0])\n",
    "\n",
    "p_int = np.linspace(0.25, 0.7, 100)\n",
    "p0_int = []\n",
    "#np.array(([(p_int[i] + p_int[i-1])/2 for i in range(1, len(p_int))]))\n",
    "C_int = []\n",
    "for i in range(1, len(p_int)):\n",
    "    p0 = (p_int[i] + p_int[i-1])/2\n",
    "    p0_int.append(p0)\n",
    "    c = C(p, 0.88, p_int[i-1], p_int[i], 100)\n",
    "    C_int.append(c)\n",
    "print(C_int, p0_int, sep = '/n')"
   ]
  },
  {
   "cell_type": "code",
   "execution_count": 203,
   "metadata": {},
   "outputs": [
    {
     "ename": "SyntaxError",
     "evalue": "Missing parentheses in call to 'print'. Did you mean print('The root is: ', end=\" \")? (<ipython-input-203-a4387ecd4599>, line 23)",
     "output_type": "error",
     "traceback": [
      "\u001b[1;36m  File \u001b[1;32m\"<ipython-input-203-a4387ecd4599>\"\u001b[1;36m, line \u001b[1;32m23\u001b[0m\n\u001b[1;33m    print 'The root is: ',\u001b[0m\n\u001b[1;37m                        ^\u001b[0m\n\u001b[1;31mSyntaxError\u001b[0m\u001b[1;31m:\u001b[0m Missing parentheses in call to 'print'. Did you mean print('The root is: ', end=\" \")?\n"
     ]
    }
   ],
   "source": [
    "import sys\n",
    "\n",
    "def f(x):\n",
    "\treturn x**3 + x -1\n",
    "\t\n",
    "def bisection(a,b,tol):\n",
    "\tc = (a+b)/2.0\n",
    "\twhile (b-a)/2.0 > tol:\n",
    "\t\tif f(c) == 0:\n",
    "\t\t\treturn c\n",
    "\t\telif f(a)*f(c) < 0:\n",
    "\t\t\tb = c\n",
    "\t\telse :\n",
    "\t\t\ta = c\n",
    "\t\tc = (a+b)/2.0\n",
    "\t\t\n",
    "\treturn c\n",
    "\t\n",
    "def main(argv):\n",
    "\tif (len(sys.argv) != 4):\n",
    "\t\tsys.exit('Usage: bisection.py <a> <b> <tol>')\n",
    "\t\n",
    "\tprint 'The root is: ',\n",
    "\tprint bisection(int(sys.argv[1]),int(sys.argv[2]),float(sys.argv[3]))\n",
    "\n",
    "if __name__ == \"__main__\":\n",
    "\tmain(sys.argv[1:])"
   ]
  },
  {
   "cell_type": "code",
   "execution_count": null,
   "metadata": {},
   "outputs": [],
   "source": []
  }
 ],
 "metadata": {
  "kernelspec": {
   "display_name": "Python 3",
   "language": "python",
   "name": "python3"
  },
  "language_info": {
   "codemirror_mode": {
    "name": "ipython",
    "version": 3
   },
   "file_extension": ".py",
   "mimetype": "text/x-python",
   "name": "python",
   "nbconvert_exporter": "python",
   "pygments_lexer": "ipython3",
   "version": "3.6.5"
  }
 },
 "nbformat": 4,
 "nbformat_minor": 2
}
