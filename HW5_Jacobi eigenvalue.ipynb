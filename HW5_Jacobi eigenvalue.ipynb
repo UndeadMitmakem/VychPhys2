{
 "cells": [
  {
   "cell_type": "code",
   "execution_count": 1,
   "metadata": {},
   "outputs": [],
   "source": [
    "import numpy as np"
   ]
  },
  {
   "cell_type": "code",
   "execution_count": 2,
   "metadata": {},
   "outputs": [],
   "source": [
    "def sym_matrix_generator(N, lim):\n",
    "    M = np.random.randint(-lim,lim,size=(N,N))\n",
    "    return (M + M.T)/2"
   ]
  },
  {
   "cell_type": "code",
   "execution_count": 3,
   "metadata": {},
   "outputs": [
    {
     "name": "stdout",
     "output_type": "stream",
     "text": [
      "[[ 93.  -89.    7.   13.5   3.   -1. ]\n",
      " [-89.  -16.  -34.  -26.   14.5  56.5]\n",
      " [  7.  -34.  -82.   44.5   3.5 -21. ]\n",
      " [ 13.5 -26.   44.5 -52.  -42.5 -41. ]\n",
      " [  3.   14.5   3.5 -42.5 -77.  -29.5]\n",
      " [ -1.   56.5 -21.  -41.  -29.5   6. ]]\n"
     ]
    }
   ],
   "source": [
    "S1 = sym_matrix_generator(6, 100)\n",
    "S2 = sym_matrix_generator(7, 100)\n",
    "print(S1)"
   ]
  },
  {
   "cell_type": "code",
   "execution_count": 4,
   "metadata": {},
   "outputs": [],
   "source": [
    "def jacobi(M):\n",
    "    _iter = 1000\n",
    "    rtol = 1e-9\n",
    "    n, m = M.shape\n",
    "    def rotation_mat(n,i,j, theta):\n",
    "        G = np.identity(n)\n",
    "        G[i,i] = np.cos(theta)\n",
    "        G[j,j] = np.cos(theta)\n",
    "        G[i,j] = -np.sin(theta)\n",
    "        G[j,i] = np.sin(theta)\n",
    "        return G\n",
    "    if n != m:\n",
    "        return 'Matrix is not square'\n",
    "    if np.allclose(M, M.T, atol=1e-08) != True:\n",
    "        return 'Matrix is not symmetric'\n",
    "    for s in range (0, _iter):\n",
    "        rtol_new = rtol\n",
    "        for i in range(0, n):\n",
    "            for j in range(i + 1, n):\n",
    "                if np.abs(M[i,j]) > rtol_new:\n",
    "                    rtol_new = np.abs(M[i,j])\n",
    "                    theta =  np.arctan(2 * M[i,j] / (M[j,j] - M[i,i]))/2\n",
    "                G = rotation_mat(n,i,j, theta)\n",
    "                M = G @ M @ G.T\n",
    "    return np.sort(np.diagonal(M))"
   ]
  },
  {
   "cell_type": "code",
   "execution_count": 5,
   "metadata": {},
   "outputs": [
    {
     "name": "stdout",
     "output_type": "stream",
     "text": [
      "S1\n",
      "[-145.38212738  -89.82840899  -83.32613213  -18.9226509    48.91532587\n",
      "  160.54399353]\n",
      "S1_numpy\n",
      "[-145.38212738  -89.82840899  -83.32613213  -18.9226509    48.91532587\n",
      "  160.54399353]\n",
      "S2\n",
      "[-136.36674081  -54.94954119  -49.52498679  -20.1785711    28.87653163\n",
      "  138.47928259  198.66402566]\n",
      "S2_numpy\n",
      "[-136.36674081  -54.94954119  -49.52498679  -20.1785711    28.87653163\n",
      "  138.47928259  198.66402566]\n"
     ]
    }
   ],
   "source": [
    "print('S1', jacobi(S1), 'S1_numpy', np.sort(np.linalg.eig(S1)[0]), sep = '\\n')\n",
    "print('S2', jacobi(S2), 'S2_numpy', np.sort(np.linalg.eig(S2)[0]), sep = '\\n')"
   ]
  }
 ],
 "metadata": {
  "kernelspec": {
   "display_name": "Python 3",
   "language": "python",
   "name": "python3"
  },
  "language_info": {
   "codemirror_mode": {
    "name": "ipython",
    "version": 3
   },
   "file_extension": ".py",
   "mimetype": "text/x-python",
   "name": "python",
   "nbconvert_exporter": "python",
   "pygments_lexer": "ipython3",
   "version": "3.6.5"
  }
 },
 "nbformat": 4,
 "nbformat_minor": 2
}
