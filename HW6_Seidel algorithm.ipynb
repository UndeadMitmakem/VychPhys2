{
 "cells": [
  {
   "cell_type": "code",
   "execution_count": 1,
   "metadata": {},
   "outputs": [],
   "source": [
    "import numpy as np"
   ]
  },
  {
   "cell_type": "code",
   "execution_count": 2,
   "metadata": {},
   "outputs": [],
   "source": [
    "def Seidel(A, b, n_iter):\n",
    "    L = np.tril(A)\n",
    "    U = np.triu(A, 1)\n",
    "    T = -np.linalg.inv(L)@U\n",
    "    C = np.linalg.inv(L)@b\n",
    "    x0 = np.zeros_like(b)\n",
    "    x = x0\n",
    "    eigs = np.linalg.eigvals(T) \n",
    "    if max(eigs.min(), eigs.max(), key=abs) >=1:\n",
    "        raise np.linalg.LinAlgError('Solution does not converge')\n",
    "    else:\n",
    "        for i in range(n_iter):\n",
    "            x = T@x + C\n",
    "        return x"
   ]
  },
  {
   "cell_type": "code",
   "execution_count": 3,
   "metadata": {},
   "outputs": [
    {
     "data": {
      "text/plain": [
       "True"
      ]
     },
     "execution_count": 3,
     "metadata": {},
     "output_type": "execute_result"
    }
   ],
   "source": [
    "rndm = np.random.RandomState(609)\n",
    "n = rndm.randint(0,100)\n",
    "A = rndm.rand(n,n)\n",
    "b = rndm.rand(n)\n",
    "np.allclose(Seidel(A, b, 500), np.linalg.solve(A, b))"
   ]
  },
  {
   "cell_type": "code",
   "execution_count": 4,
   "metadata": {},
   "outputs": [
    {
     "data": {
      "text/plain": [
       "True"
      ]
     },
     "execution_count": 4,
     "metadata": {},
     "output_type": "execute_result"
    }
   ],
   "source": [
    "rndm = np.random.RandomState(140)\n",
    "n = 4\n",
    "A = rndm.uniform(size=(n, n)) \n",
    "b = rndm.uniform(size=n)\n",
    "np.allclose(Seidel(A, b, 50), np.linalg.solve(A, b))"
   ]
  }
 ],
 "metadata": {
  "kernelspec": {
   "display_name": "Python 3",
   "language": "python",
   "name": "python3"
  },
  "language_info": {
   "codemirror_mode": {
    "name": "ipython",
    "version": 3
   },
   "file_extension": ".py",
   "mimetype": "text/x-python",
   "name": "python",
   "nbconvert_exporter": "python",
   "pygments_lexer": "ipython3",
   "version": "3.6.5"
  }
 },
 "nbformat": 4,
 "nbformat_minor": 2
}
