{
 "cells": [
  {
   "cell_type": "markdown",
   "metadata": {},
   "source": [
    "# ДЗ4: Power iterations и потенциальная яма"
   ]
  },
  {
   "cell_type": "code",
   "execution_count": 1,
   "metadata": {},
   "outputs": [],
   "source": [
    "import numpy as np\n",
    "import matplotlib.pyplot as plt\n",
    "%matplotlib inline"
   ]
  },
  {
   "cell_type": "code",
   "execution_count": 2,
   "metadata": {},
   "outputs": [],
   "source": [
    "def power_iterations(A, eps):\n",
    "    x0 = np.ones(A.shape[0]) / np.sqrt(A.shape[0])\n",
    "    e_val0 = x0 @ A @ x0\n",
    "    while True:\n",
    "        x1 = (A @ x0)/np.linalg.norm(A @ x0)\n",
    "        e_val1 = x1 @ A @ x1\n",
    "        if np.abs(e_val1 - e_val0) < eps:\n",
    "            break\n",
    "        x0 = x1\n",
    "        e_val0 = e_val1\n",
    "    return e_val1, x1"
   ]
  },
  {
   "cell_type": "markdown",
   "metadata": {},
   "source": [
    "Проверим, что все ок. К сожалению, данный метод хорош только для поиска главного собственного значения"
   ]
  },
  {
   "cell_type": "code",
   "execution_count": 3,
   "metadata": {},
   "outputs": [
    {
     "name": "stdout",
     "output_type": "stream",
     "text": [
      "(9.612131895425419, array([0.36823383, 0.73859414, 0.56469686])) 9.612131133106866\n"
     ]
    }
   ],
   "source": [
    "A = np.array([[1, 2, 3], [3, 2, 8],[2, 1, 7]])\n",
    "print(power_iterations(A, 1e-5), (np.sort(np.linalg.eig(A)[0])[-1]))"
   ]
  },
  {
   "cell_type": "markdown",
   "metadata": {},
   "source": [
    "Получается довольно приличная точность"
   ]
  },
  {
   "cell_type": "markdown",
   "metadata": {},
   "source": [
    "На семинаре мы считали гамильтониан для ямы с бесконечными стенками и численно находили собственные значения. Здесь мы слегка модифируем потенциал, добавляя горб внутри ямы. Посмотрим, что поменяется. Следует принять во внимание, что всякие размерные величины были выкинуты"
   ]
  },
  {
   "cell_type": "code",
   "execution_count": 4,
   "metadata": {},
   "outputs": [],
   "source": [
    "def I(n):\n",
    "    I = np.zeros((n,n))\n",
    "    for i in range(1, n-1):\n",
    "        for j in range(n):\n",
    "            if i == j:\n",
    "                I[i][j] = -2\n",
    "            if j == i-1:\n",
    "                I[i][j] = 1\n",
    "            if j == i+1:\n",
    "                I[i][j] = 1\n",
    "    return(I)"
   ]
  },
  {
   "cell_type": "code",
   "execution_count": 5,
   "metadata": {},
   "outputs": [
    {
     "name": "stdout",
     "output_type": "stream",
     "text": [
      "[[0.         0.         0.         0.         0.         0.        ]\n",
      " [1.         0.33282737 1.         0.         0.         0.        ]\n",
      " [0.         1.         2.32854913 1.         0.         0.        ]\n",
      " [0.         0.         1.         2.32854913 1.         0.        ]\n",
      " [0.         0.         0.         1.         0.33282737 1.        ]\n",
      " [0.         0.         0.         0.         0.         0.        ]]\n"
     ]
    }
   ],
   "source": [
    "def Hamiltonian(I, height):\n",
    "    n = I.shape[0] - 1\n",
    "    hill = [height*((1/(np.cosh(2 * i / n - 1))**2) - 1/(np.cosh(1))**2) for i in range(n)]\n",
    "    hill.append(0)\n",
    "    hill = np.array(hill)\n",
    "    return I + np.diag(hill)\n",
    "print(Hamiltonian(I(6), 8))"
   ]
  },
  {
   "cell_type": "code",
   "execution_count": 6,
   "metadata": {},
   "outputs": [],
   "source": [
    "n = 1000\n",
    "x = np.linspace(1, n, n)\n",
    "E0 = np.linalg.eig(I(n))[0]\n",
    "E1 = np.linalg.eig(Hamiltonian(I(n), 1))[0]\n",
    "E2 = np.linalg.eig(Hamiltonian(I(n), 5))[0]\n",
    "E3 = np.linalg.eig(Hamiltonian(I(n), 10))[0]"
   ]
  },
  {
   "cell_type": "code",
   "execution_count": 7,
   "metadata": {},
   "outputs": [
    {
     "data": {
      "text/plain": [
       "<matplotlib.legend.Legend at 0x2231a48c160>"
      ]
     },
     "execution_count": 7,
     "metadata": {},
     "output_type": "execute_result"
    },
    {
     "data": {
      "image/png": "[encoded data removed]",
      "text/plain": [
       "<Figure size 432x288 with 1 Axes>"
      ]
     },
     "metadata": {},
     "output_type": "display_data"
    }
   ],
   "source": [
    "plt.plot(x, np.sort(E0), label = 'ethalon')\n",
    "plt.plot(x, np.sort(E1), label = 'h = 1')\n",
    "plt.plot(x, np.sort(E2), label = 'h = 5')\n",
    "plt.plot(x, np.sort(E3), label = 'h = 10')\n",
    "plt.legend()"
   ]
  },
  {
   "cell_type": "markdown",
   "metadata": {},
   "source": [
    "Видно, что собственные значения меняются довольно сильно в зависимости от высоты \"горба\""
   ]
  },
  {
   "cell_type": "markdown",
   "metadata": {},
   "source": [
    "Ищем основное состояние системы. Для того, чтобы у нас гамильтониан имел обратную матрицу, нужно \"ликвидировать\" нулевые строки, поэтому поставим на первый и последний элементы на диагонали какое-то число, например, 5"
   ]
  },
  {
   "cell_type": "code",
   "execution_count": 8,
   "metadata": {},
   "outputs": [],
   "source": [
    "def Hamilt_upd(I, height):\n",
    "    n = I.shape[0] - 1\n",
    "    p = 2/I.shape[0]\n",
    "    hill = [height*((1/(np.cosh(2 * i / n - 1))**2) - 1/(np.cosh(1))**2) for i in range(n)]\n",
    "    hill.append(0)\n",
    "    hill = np.array(hill)\n",
    "    I[0][0] = I[-1][-1] = 5\n",
    "    return I/p**2 + np.diag(hill)"
   ]
  },
  {
   "cell_type": "code",
   "execution_count": 9,
   "metadata": {},
   "outputs": [],
   "source": [
    "def eig (M, eps):\n",
    "    return 1/np.sqrt(power_iterations(-M, eps)[0])"
   ]
  },
  {
   "cell_type": "markdown",
   "metadata": {},
   "source": [
    "Тогда при различных h будут получаться следующие собственные значения"
   ]
  },
  {
   "cell_type": "code",
   "execution_count": 12,
   "metadata": {},
   "outputs": [
    {
     "name": "stdout",
     "output_type": "stream",
     "text": [
      "h = 0\n",
      "1.5723680493887495\n",
      "h = 1\n",
      "1.414316071466372\n",
      "h = 3\n",
      "1.0258210212020258\n",
      "h = 5\n",
      "0.3151558611327141\n"
     ]
    }
   ],
   "source": [
    "H_inv0 = np.linalg.inv(Hamilt_upd(I(1000), 0))\n",
    "H_inv1 = np.linalg.inv(Hamilt_upd(I(1000), 1))\n",
    "H_inv2 = np.linalg.inv(Hamilt_upd(I(1000), 3))\n",
    "H_inv3 = np.linalg.inv(Hamilt_upd(I(1000), 5))\n",
    "print('h = 0', eig(H_inv0, 1e-6), 'h = 1', eig(H_inv1, 1e-6), 'h = 3', eig(H_inv2, 1e-6), 'h = 5',eig(H_inv3, 1e-6), sep = '\\n')  "
   ]
  }
 ],
 "metadata": {
  "kernelspec": {
   "display_name": "Python 3",
   "language": "python",
   "name": "python3"
  },
  "language_info": {
   "codemirror_mode": {
    "name": "ipython",
    "version": 3
   },
   "file_extension": ".py",
   "mimetype": "text/x-python",
   "name": "python",
   "nbconvert_exporter": "python",
   "pygments_lexer": "ipython3",
   "version": "3.6.5"
  }
 },
 "nbformat": 4,
 "nbformat_minor": 2
}
